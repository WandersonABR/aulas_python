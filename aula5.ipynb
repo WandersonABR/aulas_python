{
 "cells": [
  {
   "cell_type": "markdown",
   "metadata": {},
   "source": [
    "## Desafio\n",
    "\n",
    "- Verifica se o número é par ou ímpar"
   ]
  },
  {
   "cell_type": "code",
   "execution_count": 10,
   "metadata": {},
   "outputs": [
    {
     "name": "stdout",
     "output_type": "stream",
     "text": [
      "========== Verificador de número par ou ímpar ==========\n",
      "O numero 2 é par!\n"
     ]
    }
   ],
   "source": [
    "print(10*\"=\", \"Verificador de número par ou ímpar\",10*\"=\")\n",
    "numero = input(\"Digite o número: \")\n",
    "numero = int(numero)\n",
    "\n",
    "if numero % 2 == 0:\n",
    "    print(f\"O numero {numero} é par!\")\n",
    "else: \n",
    "    print(f\"O número {numero} é ímpar!\")\n"
   ]
  },
  {
   "cell_type": "markdown",
   "metadata": {},
   "source": [
    "## Desafio 2\n",
    "- Um elevador de carga possui capacidade para 200kg.\n",
    "    - Crie um programa que receba do usuário o peso da carga ou seu peso e verifica se a carga está autorizada a usar o elevador ou não."
   ]
  },
  {
   "cell_type": "code",
   "execution_count": 13,
   "metadata": {},
   "outputs": [
    {
     "name": "stdout",
     "output_type": "stream",
     "text": [
      "Autorizado á usar o elevador 190.0kg.\n"
     ]
    }
   ],
   "source": [
    "peso_pessoa = input(\"Digite o peso do usuário: \")\n",
    "peso_carga = input(\"Digite o peso da carga: \")\n",
    "\n",
    "peso_pessoa = float(peso_pessoa)\n",
    "peso_carga = float(peso_carga)\n",
    "\n",
    "capacidade = 200\n",
    "\n",
    "peso_total = peso_pessoa + peso_carga\n",
    "\n",
    "if peso_total <= capacidade:\n",
    "    print(f\"Autorizado á usar o elevador {peso_total}kg.\")\n",
    "else:\n",
    "    print(f\"Não autorizado á usar o elevador {peso_total}kg.\")"
   ]
  },
  {
   "cell_type": "markdown",
   "metadata": {},
   "source": [
    "## Desafio 3\n",
    "\n",
    "- Crie um sistema para coletar os dados do aluno, (nome, idade, cpf), em seguida solicite as notas dos 4 bimestres da diciplina de Python que o aluno teve para verificar a MÉDIA.\n",
    "    - Média para aprovação >= 7;\n",
    "    - Média para recuperação >= 5;\n",
    "    - Média para reprovação < 5\n",
    "- Para retirar o boletim de notas, o aluno precisa ser maior de idade(18) e caso não seja, somente os pais podem retirar o boletim.\n",
    "    - Imprima as informações do aluno;\n",
    "    - Imprima as notas do aluno em cada bimestre;\n",
    "    - Imprima a situação do aluno (aprovado, reprovado, recuperação);\n",
    "    - Imprima se o boletim será retirado pelos país ou pelo proprio aluno."
   ]
  },
  {
   "cell_type": "code",
   "execution_count": 18,
   "metadata": {},
   "outputs": [
    {
     "name": "stdout",
     "output_type": "stream",
     "text": [
      "========== Sistema de Boletim ==========\n",
      "========== Boletim escolar ==========\n",
      "Aluno: ANA ANA, idade: 19, CPF: 05631566311\n",
      "========== Notas ==========\n",
      "1° Bimestre: 10.0\n",
      "2° Bimestre: 2.5\n",
      "3° Bimestre: 6.0\n",
      "4° Bimestre: 9.0\n",
      "Aluno, ANA ANA de recuperação com média: 6.875\n"
     ]
    }
   ],
   "source": [
    "print(10*\"=\", \"Sistema de Boletim\", 10*\"=\")\n",
    "\n",
    "nome = input(\"Digite o nome do aluno: \").upper()\n",
    "idade = input(\"Digite a idade: \")\n",
    "idade = int(idade)\n",
    "cpf = input(\"Digite o CPF: \")\n",
    "nota1 = input(\"Digite a nota do 1° Bimestre: \")\n",
    "nota2 = input(\"Digite a nota do 2° Bimestre: \")\n",
    "nota3 = input(\"Digite a nota do 3° Bimestre: \")\n",
    "nota4 = input(\"Digite a nota do 4° Bimestre: \")\n",
    "nota1 = float(nota1)\n",
    "nota2 = float(nota2)\n",
    "nota3 = float(nota3)\n",
    "nota4 = float(nota4)\n",
    "\n",
    "resultado_final = (nota1 + nota2 + nota3 + nota4) / 4\n",
    "\n",
    "\n",
    "if idade >= 18:\n",
    "    print(10*\"=\", \"Boletim escolar\", 10*\"=\")\n",
    "    print(f\"Aluno: {nome}, idade: {idade}, CPF: {cpf}\")\n",
    "    print(10*\"=\", \"Notas\", 10*\"=\")\n",
    "    print(f\"1° Bimestre: {nota1}\")\n",
    "    print(f\"2° Bimestre: {nota2}\")\n",
    "    print(f\"3° Bimestre: {nota3}\")\n",
    "    print(f\"4° Bimestre: {nota4}\")\n",
    "    if resultado_final >= 7:\n",
    "        print(f\"Aluno, {nome} aprovado com média: {resultado_final}\")\n",
    "    elif resultado_final >= 5:\n",
    "        print(f\"Aluno, {nome} de recuperação com média: {resultado_final}\")\n",
    "    else:\n",
    "        print(f\"Aluno, {nome} reprovado com média: {resultado_final}\")\n",
    "else:\n",
    "    print(\"Boletim só podera ser entregue ao responsavél\")\n",
    "\n"
   ]
  }
 ],
 "metadata": {
  "kernelspec": {
   "display_name": ".venv",
   "language": "python",
   "name": "python3"
  },
  "language_info": {
   "codemirror_mode": {
    "name": "ipython",
    "version": 3
   },
   "file_extension": ".py",
   "mimetype": "text/x-python",
   "name": "python",
   "nbconvert_exporter": "python",
   "pygments_lexer": "ipython3",
   "version": "3.12.4"
  }
 },
 "nbformat": 4,
 "nbformat_minor": 2
}
