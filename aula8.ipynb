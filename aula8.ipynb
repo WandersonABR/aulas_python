{
 "cells": [
  {
   "cell_type": "markdown",
   "metadata": {},
   "source": [
    "## Listas\n",
    "\n",
    "- Declarando uma lista\n",
    "- Manipulação de lista\n",
    "    - Adicionando um novo elemento na lista\n",
    "    - Adicionando elemento em uma posição na lista\n",
    "    - Removendo um elemento da lista\n",
    "    - Mostrando segundo, terceiro e quarto elemento da lista\n",
    "    - Mostrando o ultimo elemento da lista\n",
    "    - Ordenando lista\n",
    "    - Pesquisando dados em uma lista (in, index, count)\n",
    "    - Copiando uma lista"
   ]
  },
  {
   "cell_type": "code",
   "execution_count": 7,
   "metadata": {},
   "outputs": [
    {
     "name": "stdout",
     "output_type": "stream",
     "text": [
      "O primeiro, segundo e terceiro nome é gomes\n"
     ]
    }
   ],
   "source": [
    "nomes = ['gomes', 'oliveira', 'lucas', 'jose', 'pedro', 'maria', 'lucas', 'joao']\n",
    "\n",
    "# Retornando elemento da lista atravez do índice\n",
    "print(f'O primeiro, segundo e terceiro nome é {nomes[0]}')"
   ]
  },
  {
   "cell_type": "code",
   "execution_count": 27,
   "metadata": {},
   "outputs": [
    {
     "name": "stdout",
     "output_type": "stream",
     "text": [
      "O primeiro nome é gomes\n",
      "joao\n",
      "['gomes', 'oliveira', 'jose', 'pedro', 'maria', 'joao']\n",
      "['gomes', 'oliveira', 'maria', 'joao']\n"
     ]
    }
   ],
   "source": [
    "nomes = ['gomes', 'oliveira', 'lucas', 'jose', 'pedro', 'maria', 'lucas', 'joao']\n",
    "\n",
    "\n",
    "# Retornando o ultimo elemento da lista\n",
    "print(nomes[-1])\n",
    "\n"
   ]
  },
  {
   "cell_type": "code",
   "execution_count": 8,
   "metadata": {},
   "outputs": [
    {
     "name": "stdout",
     "output_type": "stream",
     "text": [
      "['gomes', 'oliveira', 'jose', 'pedro', 'maria', 'lucas', 'joao']\n"
     ]
    }
   ],
   "source": [
    "nomes = ['gomes', 'oliveira', 'lucas', 'jose', 'pedro', 'maria', 'lucas', 'joao']\n",
    "\n",
    "#Removendo item da lista com remove\n",
    "nomes.remove('lucas')\n",
    "print(nomes)"
   ]
  },
  {
   "cell_type": "code",
   "execution_count": 9,
   "metadata": {},
   "outputs": [
    {
     "name": "stdout",
     "output_type": "stream",
     "text": [
      "['gomes', 'oliveira', 'lucas', 'jose', 'pedro', 'lucas', 'joao']\n"
     ]
    }
   ],
   "source": [
    "nomes = ['gomes', 'oliveira', 'lucas', 'jose', 'pedro', 'maria', 'lucas', 'joao']\n",
    "\n",
    "# Removendo item da lista com pop\n",
    "nomes.pop(5)\n",
    "print(nomes)"
   ]
  },
  {
   "cell_type": "code",
   "execution_count": 14,
   "metadata": {},
   "outputs": [
    {
     "name": "stdout",
     "output_type": "stream",
     "text": [
      "['maria', 'lucas', 'joao']\n"
     ]
    }
   ],
   "source": [
    "nomes = ['gomes', 'oliveira', 'lucas', 'jose', 'pedro', 'maria', 'lucas', 'joao']\n",
    "\n",
    "# Removendo item usando Del\n",
    "del nomes[:5]\n",
    "print(nomes)"
   ]
  },
  {
   "cell_type": "code",
   "execution_count": 15,
   "metadata": {},
   "outputs": [
    {
     "name": "stdout",
     "output_type": "stream",
     "text": [
      "['lucas', 'jose', 'pedro']\n"
     ]
    }
   ],
   "source": [
    "nomes = ['gomes', 'oliveira', 'lucas', 'jose', 'pedro', 'maria', 'lucas', 'joao']\n",
    "\n",
    "# Mostrando elementos atraves do intervalo\n",
    "print(nomes[2:5])"
   ]
  },
  {
   "cell_type": "code",
   "execution_count": 16,
   "metadata": {},
   "outputs": [
    {
     "name": "stdout",
     "output_type": "stream",
     "text": [
      "['gomes', 'oliveira', 'lucas', 'jose', 'pedro', 'maria', 'lucas', 'joao', 'Josue']\n"
     ]
    }
   ],
   "source": [
    "nomes = ['gomes', 'oliveira', 'lucas', 'jose', 'pedro', 'maria', 'lucas', 'joao']\n",
    "\n",
    "# Adicionar um novo item a lista\n",
    "nomes.append('Josue')\n",
    "print(nomes)"
   ]
  },
  {
   "cell_type": "code",
   "execution_count": 19,
   "metadata": {},
   "outputs": [
    {
     "name": "stdout",
     "output_type": "stream",
     "text": [
      "['gomes', 'oliveira', 'lucas', 'jose', 'pedro', 'maria', 'lucas', 'joao']\n",
      "['gomes', 'oliveira', 'lucas', 'jose', 'pedro', 'Josue', 'maria', 'lucas', 'joao']\n"
     ]
    }
   ],
   "source": [
    "nomes = ['gomes', 'oliveira', 'lucas', 'jose', 'pedro', 'maria', 'lucas', 'joao']\n",
    "\n",
    "# Adicionar elemento em uma posição específica\n",
    "print(nomes)\n",
    "nomes.insert(5, 'Josue')\n",
    "print(nomes)"
   ]
  },
  {
   "cell_type": "code",
   "execution_count": 45,
   "metadata": {},
   "outputs": [
    {
     "name": "stdout",
     "output_type": "stream",
     "text": [
      "1° nome da lista: gomes\n",
      "2° nome da lista: oliveira\n",
      "3° nome da lista: lucas\n",
      "4° nome da lista: jose\n",
      "5° nome da lista: pedro\n",
      "6° nome da lista: maria\n",
      "7° nome da lista: lucas\n",
      "8° nome da lista: joao\n",
      "\n",
      "============================== Lista atualizada ==============================\n",
      "1° nome da lista: garoto de programa\n",
      "2° nome da lista: gomes\n",
      "3° nome da lista: oliveira\n",
      "4° nome da lista: lucas\n",
      "5° nome da lista: jose\n",
      "6° nome da lista: pedro\n",
      "7° nome da lista: maria\n",
      "8° nome da lista: lucas\n",
      "9° nome da lista: joao\n"
     ]
    }
   ],
   "source": [
    "nomes = ['gomes', 'oliveira', 'lucas', 'jose', 'pedro', 'maria', 'lucas', 'joao']\n",
    "\n",
    "# Imprimindo a lista ignorando o indice 0\n",
    "for i in range(len(nomes)):\n",
    "    print(f'{i + 1}° nome da lista: {nomes[i]}')\n",
    "\n",
    "# Recebendo novo nome para adicionar na lista\n",
    "novo_nome = input(\"Digite um novo nome a ser adicionado na lista: \")\n",
    "\n",
    "# Recebendo uma posição para adicionar na lista\n",
    "posicao = input('Informe a posição desejada para adicionar o novo nome: ')\n",
    "posicao = int(posicao)\n",
    "\n",
    "# Corrigindo a posição dos índices\n",
    "posicao -= 1\n",
    "\n",
    "if posicao >= 0 and posicao <= len(nomes):\n",
    "    nomes.insert(posicao, novo_nome)\n",
    "else:\n",
    "    print('Posição inválida')\n",
    "\n",
    "print()\n",
    "print(30*'=', 'Lista atualizada', 30*'=')\n",
    "for i in range(len(nomes)):\n",
    "    \n",
    "    print(f'{i + 1}° nome da lista: {nomes[i]}')"
   ]
  },
  {
   "cell_type": "code",
   "execution_count": 21,
   "metadata": {},
   "outputs": [
    {
     "name": "stdout",
     "output_type": "stream",
     "text": [
      "['gomes', 'oliveira', 'lucas', 'jose', 'pedro', 'garoto de programa', 'lucas', 'joao']\n"
     ]
    }
   ],
   "source": [
    "nomes = ['gomes', 'oliveira', 'lucas', 'jose', 'pedro', 'maria', 'lucas', 'joao']\n",
    "\n",
    "# Substituindo um valor na lista atraves do seu índice\n",
    "nomes[5] = 'garoto de programa'\n",
    "print(nomes)"
   ]
  },
  {
   "cell_type": "code",
   "execution_count": 54,
   "metadata": {},
   "outputs": [
    {
     "name": "stdout",
     "output_type": "stream",
     "text": [
      "Lista desordenada: [10, 9, 8, 7, 6, 5, 4, 3, 2, 1]\n",
      "Lista ordenada: [1, 2, 3, 4, 5, 6, 7, 8, 9, 10]\n"
     ]
    }
   ],
   "source": [
    "lista1 = [10,9,8,7,6,5,4,3,2,1]\n",
    "\n",
    "# Lista ordenada Crescente\n",
    "print(f'Lista desordenada: {lista1}')\n",
    "lista1.sort()\n",
    "print(f'Lista ordenada: {lista1}')\n",
    "\n",
    "# Lista ordenada decrescente"
   ]
  },
  {
   "cell_type": "code",
   "execution_count": 58,
   "metadata": {},
   "outputs": [
    {
     "name": "stdout",
     "output_type": "stream",
     "text": [
      "Lista desordenada: [5, 2, 9, 20, 7, 4, 8, 3, 10, 1]\n",
      "Lista ordenada Decrescente: [20, 10, 9, 8, 7, 5, 4, 3, 2, 1]\n"
     ]
    }
   ],
   "source": [
    "lista = [5,2,9,20,7,4,8,3,10,1]\n",
    "\n",
    "# Lista ordenada Descrescente\n",
    "print(f'Lista desordenada: {lista}')\n",
    "lista.sort(reverse=True)\n",
    "print(f'Lista ordenada Decrescente: {lista}')"
   ]
  },
  {
   "cell_type": "markdown",
   "metadata": {},
   "source": [
    "#### Desafio 01\n",
    "- Crie um programa que realiza a contagem de 1 até 100, usando apenas números ímpares, ao final do processo exiba em tela quantos números ímpares foram encontrados nesse intervalo, assim como a soma dos mesmos:"
   ]
  },
  {
   "cell_type": "code",
   "execution_count": 18,
   "metadata": {},
   "outputs": [
    {
     "name": "stdout",
     "output_type": "stream",
     "text": [
      "A quantidade de numeros impares até chegar ao 100 é: 50\n",
      "A soma de todos os numeros impares é: 2500\n"
     ]
    }
   ],
   "source": [
    "# TODO: Resposta do desafio 01\n",
    "numIni = 1\n",
    "numFinal = 100\n",
    "contadorImpar = 0\n",
    "somaPar = 0\n",
    "\n",
    "while numIni <= numFinal:\n",
    "    if numIni % 2 == 1:\n",
    "        contadorImpar += 1\n",
    "        somaPar += numIni\n",
    "    else:\n",
    "        ...\n",
    "    numIni +=1\n",
    "        \n",
    "print(f'A quantidade de numeros impares até chegar ao 100 é: {contadorImpar}')\n",
    "print(f'A soma de todos os numeros impares é: {somaPar}')\n",
    "    \n"
   ]
  },
  {
   "cell_type": "markdown",
   "metadata": {},
   "source": [
    "#### Desafio 02\n",
    "- Crie uma lista de tarefas basica, onde você pode adicionar quantas tarefas você desejar\n",
    "    - Use While\n",
    "    - Use For\n",
    "    - Use if else\n",
    "    - Use os ('cls')"
   ]
  },
  {
   "cell_type": "code",
   "execution_count": 2,
   "metadata": {},
   "outputs": [
    {
     "name": "stdout",
     "output_type": "stream",
     "text": [
      "1 - Adicionar tarefa: \n",
      "2 - Listar tarefa: \n",
      "3 - Remover tarefa: \n",
      "4 - Atualizar tarefa: \n",
      "5 - Finalizar programa: \n",
      "Tarefa adicionada com sucesso!\n",
      "1 - Adicionar tarefa: \n",
      "2 - Listar tarefa: \n",
      "3 - Remover tarefa: \n",
      "4 - Atualizar tarefa: \n",
      "5 - Finalizar programa: \n",
      "==================== Tarefas a fazer ====================\n",
      "ID: 0 - Tarefa: correr\n",
      "1 - Adicionar tarefa: \n",
      "2 - Listar tarefa: \n",
      "3 - Remover tarefa: \n",
      "4 - Atualizar tarefa: \n",
      "5 - Finalizar programa: \n",
      "Programa finalizado\n"
     ]
    }
   ],
   "source": [
    "# TODO: Resposta do desafio 02\n",
    "lista_tarefas = []\n",
    "contadorTarefas = 0\n",
    "\n",
    "while True:\n",
    "    print(\"1 - Adicionar tarefa: \")\n",
    "    print(\"2 - Listar tarefa: \")\n",
    "    print(\"3 - Remover tarefa: \")\n",
    "    print(\"4 - Atualizar tarefa: \")\n",
    "    print(\"5 - Finalizar programa: \")\n",
    "    opcao = input(\"Opção: \")\n",
    "\n",
    "    # Adicionar Tarefa\n",
    "    if opcao == '1':\n",
    "        nome_tarefa = input(\"Digite a tarefa que deseja adicionar: \")\n",
    "        if nome_tarefa == \"\":\n",
    "            print(\"Não foi possivél adicionar a tarefa!\")\n",
    "        else:\n",
    "            lista_tarefas.append(nome_tarefa)\n",
    "            contadorTarefas += 1\n",
    "            print(\"Tarefa adicionada com sucesso!\")\n",
    "    # Listar Tarefa      \n",
    "    elif opcao == '2':\n",
    "        print(20*'=', 'Tarefas a fazer', 20*'=')\n",
    "        if len(lista_tarefas) == 0:\n",
    "            print(\"Lista vazia!\")\n",
    "        else:\n",
    "            for idx, tarefa in enumerate(lista_tarefas): # gera pares de valores (índice, valor) para cada item na lista lista_tarefas\n",
    "                print(f'ID: {idx} - Tarefa: {tarefa}')\n",
    "    # Remover Tarefa\n",
    "    elif opcao == '3':\n",
    "        print(20*'=', 'Remover tarefa', 20*'=')\n",
    "        if len(lista_tarefas) == 0:\n",
    "            print(\"Não tem tarefas para serem removidas!\")\n",
    "        else:\n",
    "            remover_tarefa = input(\"Qual o id da tarefa que deseja remover? \")\n",
    "            if remover_tarefa.isdigit():\n",
    "                remover_tarefa = int(remover_tarefa)\n",
    "                if 0 <= remover_tarefa < len(lista_tarefas):\n",
    "                    tarefa_removida = lista_tarefas.pop(remover_tarefa)\n",
    "                    print(f'Tarefa: {tarefa_removida} removida com sucesso!')\n",
    "                else:\n",
    "                    print(\"ID inválido!\")\n",
    "            else:\n",
    "                print(\"ID inválido! Digite apenas numeros!\")\n",
    "    # Atualizar Tarefa\n",
    "    elif opcao == '4':\n",
    "        print(20*'=', 'Atualizar tarefa', 20*'=')\n",
    "        if len(lista_tarefas) == 0:\n",
    "            print(\"Lista vazia, não há nada para ser atualizada\")\n",
    "        else:\n",
    "            tarefaId = input(\"Digite o id da tarefa que deseja atualizar: \")\n",
    "\n",
    "        if tarefaId.isdigit(): # Verifica se o id é um numero\n",
    "            tarefaId = int(tarefaId)\n",
    "            if 0 <= tarefaId < len(lista_tarefas): # Verifica se o id está dentro dos limites da lista\n",
    "                nova_tarefa = input(\"Digite a nova tarefa: \")\n",
    "                lista_tarefas[tarefaId] = nova_tarefa\n",
    "                print(f'Tarefa ID {tarefaId} atualizada com sucesso!')\n",
    "            else:\n",
    "                print(\"ID inválido!\")\n",
    "        else:\n",
    "            print(\"ID inválido! digite um número.\")\n",
    "    # Finalizar programa\n",
    "    elif opcao == '5':\n",
    "        print(\"Programa finalizado\")\n",
    "        break\n",
    "    else:\n",
    "        print(\"Opção invalida!\")\n",
    "        continue\n"
   ]
  },
  {
   "cell_type": "markdown",
   "metadata": {},
   "source": [
    "#### Desafio 03\n",
    "- Crie um programa que pede o usuario que o mesmo digite um número qualquer, em seguida retorne se esse número é primo ou não, caso não seja, retorne tambem a quantas vezes esse número é divisível:\n",
    "\n",
    "Número primo é aquele que apenas é divisível por 1 ou por ele mesmo, temos de criar essa condição lógica para poder solucionar esse exercício."
   ]
  },
  {
   "cell_type": "code",
   "execution_count": 11,
   "metadata": {},
   "outputs": [
    {
     "name": "stdout",
     "output_type": "stream",
     "text": [
      "\u001b[33m1 \u001b[31m2 \u001b[31m3 \u001b[31m4 \u001b[33m5 \u001b[31m6 \u001b[31m7 \u001b[31m8 \u001b[31m9 \u001b[31m10 \u001b[31m11 \u001b[31m12 \u001b[31m13 \u001b[31m14 \u001b[31m15 \u001b[31m16 \u001b[31m17 \u001b[31m18 \u001b[31m19 \u001b[31m20 \u001b[31m21 \u001b[31m22 \u001b[31m23 \u001b[31m24 \u001b[33m25 \n",
      "\u001b[m O numero 25 foi divisível 3 vezes\n",
      "E por isso ele NÃO É PRIMO!\n"
     ]
    }
   ],
   "source": [
    "# TODO: Resposta do desafio 03\n",
    "numero = input(\"Digite um número: \")\n",
    "numero = int(numero)\n",
    "total = 0\n",
    "\n",
    "for contador in range(1, numero + 1):\n",
    "    if numero % contador == 0:\n",
    "        print('\\033[33m', end='')\n",
    "        total += 1\n",
    "    else:\n",
    "        print('\\033[31m', end='')\n",
    "    print(f'{contador} ', end='')\n",
    "print(f'\\n\\033[m O numero {numero} foi divisível {total} vezes')\n",
    "\n",
    "if total == 2:\n",
    "    print(\"E por isso ele é PRIMO!\")\n",
    "else: \n",
    "    print(\"E por isso ele NÃO É PRIMO!\")\n",
    "\n",
    "\n"
   ]
  }
 ],
 "metadata": {
  "kernelspec": {
   "display_name": "venv",
   "language": "python",
   "name": "python3"
  },
  "language_info": {
   "codemirror_mode": {
    "name": "ipython",
    "version": 3
   },
   "file_extension": ".py",
   "mimetype": "text/x-python",
   "name": "python",
   "nbconvert_exporter": "python",
   "pygments_lexer": "ipython3",
   "version": "3.12.4"
  }
 },
 "nbformat": 4,
 "nbformat_minor": 2
}
