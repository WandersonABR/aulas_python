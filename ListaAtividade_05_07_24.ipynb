{
 "cells": [
  {
   "cell_type": "markdown",
   "metadata": {},
   "source": [
    "## Operador ternário\n",
    "- Usar operador ternário quando as alternativas forem pequenas, e quando tiver apenas 2 ou no máximo 3 alternativas.\n",
    "- No exemplo a variável precisa ser inteira"
   ]
  },
  {
   "cell_type": "code",
   "execution_count": 10,
   "metadata": {},
   "outputs": [
    {
     "name": "stdout",
     "output_type": "stream",
     "text": [
      "karython é maior de idade.\n"
     ]
    }
   ],
   "source": [
    "nome = 'karython'\n",
    "idade = 18\n",
    "\n",
    "print(nome, 'é maior de idade.' if idade >= 18 else 'é menor de idade')"
   ]
  },
  {
   "cell_type": "markdown",
   "metadata": {},
   "source": [
    "## Replace\n",
    "- substituir"
   ]
  },
  {
   "cell_type": "code",
   "execution_count": 5,
   "metadata": {},
   "outputs": [
    {
     "name": "stdout",
     "output_type": "stream",
     "text": [
      "<class 'str'>\n",
      "<class 'float'>\n"
     ]
    }
   ],
   "source": [
    "peso = input(\"Digite seu peso: \").replace(',','.')\n",
    "print(type(peso))\n",
    "peso = float(peso)\n",
    "print(type(peso))\n"
   ]
  },
  {
   "cell_type": "markdown",
   "metadata": {},
   "source": [
    "## Desafio 01\n",
    "- Crie um programa para fazer a verificação de um cliente para saber se ele pode usar o brinquedo ou não.\n",
    "    - Para brincar ele precisa:\n",
    "        - ter mais que 12 anos\n",
    "        - ter altura minima de 1,20 mts"
   ]
  },
  {
   "cell_type": "code",
   "execution_count": 50,
   "metadata": {},
   "outputs": [
    {
     "name": "stdout",
     "output_type": "stream",
     "text": [
      "Autorização\n",
      "Não pode usar o brinquedo\n"
     ]
    }
   ],
   "source": [
    "# TODO: Resposta desafio 01\n",
    "print(\"Autorização\")\n",
    "idade = input(\"Quantos anos você tem: \")\n",
    "altura = input(\"Qual sua altura: \").replace(',','.')\n",
    "idade = int(idade)\n",
    "altura = float(altura)\n",
    "\n",
    "print(\"Pode usar o brinquedo\" if idade >=12 and altura >= 1.20 else \"Não pode usar o brinquedo\")\n",
    "\n"
   ]
  },
  {
   "cell_type": "markdown",
   "metadata": {},
   "source": [
    "## Desafio 02\n",
    "- Crie um programa que verifica se o aluno poderar ir a praia.\n",
    "    - Para ir a praia ele precisa:\n",
    "        - Verifica se acordei de bom humor\n",
    "        - Verifica se o pai ja chegou em casa para leva-lo"
   ]
  },
  {
   "cell_type": "code",
   "execution_count": 18,
   "metadata": {},
   "outputs": [
    {
     "name": "stdout",
     "output_type": "stream",
     "text": [
      "Você não vai á praia!\n"
     ]
    }
   ],
   "source": [
    "# TODO: Resposta desafio 02\n",
    "humor = input(\"Qual seu humor hoje, FELIZ ou TRISTE? \").lower()\n",
    "pai_em_casa = input(\"Seu pai está em casa? \").lower()\n",
    "\n",
    "if humor == 'feliz' and pai_em_casa == 'sim':\n",
    "    print(\"Você vai á praia!\")\n",
    "else: \n",
    "    print(\"Você não vai á praia!\")\n",
    "    \n",
    "\n"
   ]
  },
  {
   "cell_type": "markdown",
   "metadata": {},
   "source": [
    "## Desafio 03\n",
    "- Crie um programa que modifique o cpf digitado\n",
    "    - pegue um cpf qualquer com todos os digitos:\n",
    "        - remova os caracteres\n",
    "        - imprima o cpf sem modificação\n",
    "        - imprima o cpf com modificação"
   ]
  },
  {
   "cell_type": "code",
   "execution_count": 23,
   "metadata": {},
   "outputs": [
    {
     "name": "stdout",
     "output_type": "stream",
     "text": [
      "Sem modificação! 047.290.311-05\n",
      "CPF modificado:  04729031105\n"
     ]
    }
   ],
   "source": [
    "# TODO: Resposta desafio 03\n",
    "cpf = input(\"Digite seu CPF: \")\n",
    "print(\"Sem modificação!\", cpf)\n",
    "\n",
    "cpf_modificado = cpf.replace('.', '').replace('-', '')\n",
    "print(\"CPF modificado: \", cpf_modificado)\n"
   ]
  },
  {
   "cell_type": "markdown",
   "metadata": {},
   "source": [
    "## Desafio 04\n",
    "- Crie uma calculadora de IMC\n",
    "    - Imprima as seguintes condições:?\n",
    "        - imc <17: está com anorexia.\n",
    "        - imc <18.5: está abaixo do peso\n",
    "        - imc <25: está no peso ideal.\n",
    "        - imc <30: está acima do peso.\n",
    "        - imc <35: está com grau de obesidade I.\n",
    "        - imc <40: está com grau de obesidade II.\n",
    "        - imc: está com grau de obesidade mórbida."
   ]
  },
  {
   "cell_type": "code",
   "execution_count": 37,
   "metadata": {},
   "outputs": [
    {
     "name": "stdout",
     "output_type": "stream",
     "text": [
      "Peso: 85.0kg Resultado: ACIMA DO PESO Imc: 27.76\n"
     ]
    }
   ],
   "source": [
    "# TODO: Resposta desafio 04\n",
    "peso = input(\"Digite seu peso: \").replace(',', '.')\n",
    "altura = input(\"Digite sua altura: \").replace(',','.')\n",
    "\n",
    "peso = float(peso)\n",
    "altura = float(altura)\n",
    "\n",
    "imc = peso / (altura * altura )\n",
    "\n",
    "if imc < 17:\n",
    "    resultado = \"ANOREXIA\"\n",
    "elif imc < 18.5:\n",
    "    resultado = \"ABAIXO DO PESO\"\n",
    "elif imc < 25:\n",
    "    resultado = \"PESO IDEAL\"\n",
    "elif imc < 30:\n",
    "    resultado = \"ACIMA DO PESO\"\n",
    "elif imc < 35:\n",
    "    resultado = \"OBESIDADE GRAU I\"\n",
    "elif imc < 40:\n",
    "    resultado = \"OBESIDADE GRAU II\"\n",
    "else:\n",
    "    resultado = \"OBESIDADE GRAU MÓRBIDA\"\n",
    "\n",
    "print(f\"Peso: {peso}kg Resultado: {resultado} Imc: {imc:.2f}\")\n"
   ]
  },
  {
   "cell_type": "markdown",
   "metadata": {},
   "source": [
    "## Desafio 05\n",
    "- Crie uma calculadora basica.\n",
    "    - Solicite 2 números do usuário e pergunte qual operação matemática ele deseja fazer.\n",
    "        -   +; -; /; *\n",
    "        - imprima o resultado correto para cada operação"
   ]
  },
  {
   "cell_type": "code",
   "execution_count": 49,
   "metadata": {},
   "outputs": [
    {
     "name": "stdout",
     "output_type": "stream",
     "text": [
      "==================== Calculadora básica ====================\n",
      "Operador inválido!\n",
      "\n"
     ]
    }
   ],
   "source": [
    "# TODO: Resposta desafio 05\n",
    "print(20*'=', \"Calculadora básica\", 20*\"=\")\n",
    "num1 = input(\"Digite o primeiro número: \")\n",
    "num2 = input(\"Digite o primeiro número: \")\n",
    "opcao = input(\"Qual é a operação: Operações: +, -, *, /\").replace('x','*')\n",
    "\n",
    "num1 = float(num1)\n",
    "num2 = float(num2)\n",
    "\n",
    "\n",
    "\n",
    "if opcao == \"+\":\n",
    "    resultado = num1 + num2\n",
    "elif opcao == \"-\":\n",
    "    resultado = num1 - num2\n",
    "elif opcao == \"*\":\n",
    "    resultado = num1 * num2\n",
    "elif opcao == \"/\":\n",
    "    resultado = num1 / num2\n",
    "else:\n",
    "    print(\"Operador inválido!\")\n",
    "    resultado = \"\"\n",
    "\n",
    "print(f\"{num1} {opcao} {num2} = {resultado}\" if resultado != \"\" else \"\")\n"
   ]
  }
 ],
 "metadata": {
  "kernelspec": {
   "display_name": "Python 3",
   "language": "python",
   "name": "python3"
  },
  "language_info": {
   "codemirror_mode": {
    "name": "ipython",
    "version": 3
   },
   "file_extension": ".py",
   "mimetype": "text/x-python",
   "name": "python",
   "nbconvert_exporter": "python",
   "pygments_lexer": "ipython3",
   "version": "3.12.4"
  }
 },
 "nbformat": 4,
 "nbformat_minor": 2
}
