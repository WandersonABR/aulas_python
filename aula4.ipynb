{
 "cells": [
  {
   "cell_type": "markdown",
   "metadata": {},
   "source": [
    "## Operadores lógicos"
   ]
  },
  {
   "cell_type": "code",
   "execution_count": 5,
   "metadata": {},
   "outputs": [
    {
     "name": "stdout",
     "output_type": "stream",
     "text": [
      "Divisão inteira: 1\n",
      "Divisão normal: 1.0\n",
      "Resto da divisão: 0\n",
      "Exponenciação: 3125\n"
     ]
    }
   ],
   "source": [
    "n1 = input(\"Digite o primeiro valor: \")\n",
    "n2 = input(\"Digite o segundo valor: \")\n",
    "# Convertendo valores\n",
    "n1 = int(n1)\n",
    "n2 = int(n2)\n",
    "\n",
    "# Operadores lógicos\n",
    "divisao_inteira = n1 // n2\n",
    "divisao_normal = n1 / n2\n",
    "resto_da_divisao = n1 % n2\n",
    "exponenciacao = n1 ** n2\n",
    "\n",
    "print(f\"Divisão inteira: {divisao_inteira}\")\n",
    "print(f\"Divisão normal: {divisao_normal}\")\n",
    "print(f\"Resto da divisão: {resto_da_divisao}\")\n",
    "print(f\"Exponenciação: {exponenciacao}\")"
   ]
  },
  {
   "cell_type": "markdown",
   "metadata": {},
   "source": [
    "## Atividade\n",
    "\n",
    "- Crie um programa para o Boletim de notas do aluno. Guarde o nome do aluno, as notas e calcule a média final do aluno.\n",
    "- Disciplinas:\n",
    "    - Matemática;\n",
    "    - Português;\n",
    "    - Geografia;\n",
    "    - História;\n",
    "    - Física.\n",
    "- Ao obter as notas e a média das notas, imprima o boletim do aluno informando as notas das materias e com quanto ele ficou de média."
   ]
  },
  {
   "cell_type": "code",
   "execution_count": 14,
   "metadata": {},
   "outputs": [
    {
     "name": "stdout",
     "output_type": "stream",
     "text": [
      "Sistema de notas dos alunos\n",
      "Aluno: Wanderson Rodrigues\n",
      "==============================  BOLETIM  ==============================\n",
      "Matemática: 10.0\n",
      "Português: 8.5\n",
      "Geográfia: 8.35\n",
      "Historia: 6.5\n",
      "Física: 5.5\n",
      "Média final: 7.77\n"
     ]
    }
   ],
   "source": [
    "print(\"Sistema de notas dos alunos\")\n",
    "nome = input(\"Digite o nome do aluno: \")\n",
    "\n",
    "mate = input(\"Matemática: \")\n",
    "\n",
    "portu = input(\"Português: \")\n",
    "\n",
    "geo = input(\"Geográfia: \")\n",
    "\n",
    "histo = input(\"História: \")\n",
    "\n",
    "fisi = input(\"Física: \")\n",
    "\n",
    "mate = float(mate)\n",
    "portu = float(portu)\n",
    "geo = float(geo)\n",
    "histo = float(histo)\n",
    "fisi = float(fisi)\n",
    "\n",
    "media = (mate + portu + geo + histo + fisi) / 5\n",
    "\n",
    "\n",
    "print(f\"Aluno: {nome}\")\n",
    "print(30*'=', \" BOLETIM \", 30*'=')\n",
    "\n",
    "print(f\"Matemática: {mate}\")\n",
    "print(f\"Português: {portu}\")\n",
    "print(f\"Geográfia: {geo}\")\n",
    "print(f\"Historia: {histo}\")\n",
    "print(f\"Física: {fisi}\")\n",
    "\n",
    "print(f\"Média final: {media:.2f}\") # Para formatar o numero\n",
    "\n"
   ]
  }
 ],
 "metadata": {
  "kernelspec": {
   "display_name": ".venv",
   "language": "python",
   "name": "python3"
  },
  "language_info": {
   "codemirror_mode": {
    "name": "ipython",
    "version": 3
   },
   "file_extension": ".py",
   "mimetype": "text/x-python",
   "name": "python",
   "nbconvert_exporter": "python",
   "pygments_lexer": "ipython3",
   "version": "3.12.4"
  }
 },
 "nbformat": 4,
 "nbformat_minor": 2
}
