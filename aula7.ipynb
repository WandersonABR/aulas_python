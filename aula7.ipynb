{
 "cells": [
  {
   "cell_type": "markdown",
   "metadata": {},
   "source": [
    "## Laço for"
   ]
  },
  {
   "cell_type": "code",
   "execution_count": 1,
   "metadata": {},
   "outputs": [
    {
     "name": "stdout",
     "output_type": "stream",
     "text": [
      "a\n",
      "m\n",
      "o\n",
      "r\n"
     ]
    }
   ],
   "source": [
    "nome = 'amor'\n",
    "for n in nome:\n",
    "    print(n)"
   ]
  },
  {
   "cell_type": "code",
   "execution_count": 2,
   "metadata": {},
   "outputs": [
    {
     "name": "stdout",
     "output_type": "stream",
     "text": [
      "0\n",
      "2\n",
      "4\n",
      "6\n",
      "8\n",
      "10\n",
      "12\n",
      "14\n",
      "16\n",
      "18\n",
      "20\n"
     ]
    }
   ],
   "source": [
    "for i in range(0,21): # vai contar de 0 até 21\n",
    "    if i % 2 == 0:\n",
    "        print(i)"
   ]
  },
  {
   "cell_type": "code",
   "execution_count": 3,
   "metadata": {},
   "outputs": [
    {
     "name": "stdout",
     "output_type": "stream",
     "text": [
      "                   *\n",
      "                  ***\n",
      "                 *****\n",
      "                *******\n",
      "               *********\n",
      "              ***********\n",
      "             *************\n",
      "            ***************\n",
      "           *****************\n",
      "          *******************\n",
      "         *********************\n",
      "        ***********************\n",
      "       *************************\n",
      "      ***************************\n",
      "     *****************************\n",
      "    *******************************\n",
      "   *********************************\n",
      "  ***********************************\n",
      " *************************************\n",
      "***************************************\n"
     ]
    }
   ],
   "source": [
    "#Arvore de natal\n",
    "\n",
    "altura = 20\n",
    "espacamento = 0\n",
    "asteristico = 1\n",
    "simbolo = '*'\n",
    "\n",
    "for i in range(altura):\n",
    "    espacamento = altura - i - 1\n",
    "    \n",
    "\n",
    "    for j in range(espacamento):\n",
    "        print(' ', end = '')\n",
    "    for k in range(asteristico):\n",
    "        print(simbolo, end = '')\n",
    "\n",
    "    print()\n",
    "    asteristico += 2"
   ]
  },
  {
   "cell_type": "markdown",
   "metadata": {},
   "source": [
    "## Lista\n"
   ]
  },
  {
   "cell_type": "code",
   "execution_count": 4,
   "metadata": {},
   "outputs": [
    {
     "name": "stdout",
     "output_type": "stream",
     "text": [
      "1° colocado: wanderson\n",
      "2° colocado: Ana\n",
      "3° colocado: Estevao\n",
      "4° colocado: Catarina\n"
     ]
    }
   ],
   "source": [
    "lista = ['wanderson', 'Ana', 'Estevao', 'Catarina']\n",
    "\n",
    "for i in range(len(lista)):\n",
    "    print(f'{i + 1}° colocado: {lista[i]}')"
   ]
  },
  {
   "cell_type": "code",
   "execution_count": 5,
   "metadata": {},
   "outputs": [
    {
     "ename": "ValueError",
     "evalue": "invalid literal for int() with base 10: ''",
     "output_type": "error",
     "traceback": [
      "\u001b[1;31m---------------------------------------------------------------------------\u001b[0m",
      "\u001b[1;31mValueError\u001b[0m                                Traceback (most recent call last)",
      "Cell \u001b[1;32mIn[5], line 2\u001b[0m\n\u001b[0;32m      1\u001b[0m \u001b[38;5;66;03m# Tabuada\u001b[39;00m\n\u001b[1;32m----> 2\u001b[0m x \u001b[38;5;241m=\u001b[39m \u001b[38;5;28;43mint\u001b[39;49m\u001b[43m(\u001b[49m\u001b[38;5;28;43minput\u001b[39;49m\u001b[43m(\u001b[49m\u001b[38;5;124;43m'\u001b[39;49m\u001b[38;5;124;43mDigite um numero inteiro: \u001b[39;49m\u001b[38;5;124;43m'\u001b[39;49m\u001b[43m)\u001b[49m\u001b[43m)\u001b[49m\n\u001b[0;32m      4\u001b[0m \u001b[38;5;28;01mfor\u001b[39;00m num \u001b[38;5;129;01min\u001b[39;00m \u001b[38;5;28mrange\u001b[39m(\u001b[38;5;241m1\u001b[39m, \u001b[38;5;241m11\u001b[39m):\n\u001b[0;32m      5\u001b[0m     \u001b[38;5;28mprint\u001b[39m(\u001b[38;5;124mf\u001b[39m\u001b[38;5;124m'\u001b[39m\u001b[38;5;132;01m{\u001b[39;00mx\u001b[38;5;132;01m}\u001b[39;00m\u001b[38;5;124m x \u001b[39m\u001b[38;5;132;01m{\u001b[39;00mnum\u001b[38;5;132;01m}\u001b[39;00m\u001b[38;5;124m = \u001b[39m\u001b[38;5;132;01m{\u001b[39;00mx\u001b[38;5;250m \u001b[39m\u001b[38;5;241m*\u001b[39m\u001b[38;5;250m \u001b[39mnum\u001b[38;5;132;01m}\u001b[39;00m\u001b[38;5;124m'\u001b[39m)\n",
      "\u001b[1;31mValueError\u001b[0m: invalid literal for int() with base 10: ''"
     ]
    }
   ],
   "source": [
    "# Tabuada\n",
    "x = int(input('Digite um numero inteiro: '))\n",
    "\n",
    "for num in range(1, 11):\n",
    "    print(f'{x} x {num} = {x * num}')"
   ]
  },
  {
   "cell_type": "markdown",
   "metadata": {},
   "source": [
    "# Sistema de sorteio"
   ]
  },
  {
   "cell_type": "code",
   "execution_count": 6,
   "metadata": {},
   "outputs": [
    {
     "name": "stdout",
     "output_type": "stream",
     "text": [
      "O premiado da vez é o ana\n",
      "O premiado da vez é o marcos\n",
      "Sistema finalizado!\n",
      "Lista do sorteio:  ['ana', 'pedro', 'joao', 'marcos', 'lucas', 'anglea']\n",
      "Listas de sorteados: ['ana', 'marcos']\n"
     ]
    }
   ],
   "source": [
    "import random\n",
    "import os\n",
    "\n",
    "\n",
    "lista = []\n",
    "lista_sorteados = []\n",
    "\n",
    "while True:\n",
    "    nome = input(\"Digite os nomes que serão sorteados \")\n",
    "    if nome != '':\n",
    "        lista.append(nome) # Adiciona o nome na lista, função append(parametro)\n",
    "    else:\n",
    "        break\n",
    "\n",
    "while True:\n",
    "    if lista:\n",
    "        os.system('cls')\n",
    "        premiado = random.choice(lista)\n",
    "        lista_sorteados.append(premiado)\n",
    "\n",
    "        print(f'O premiado da vez é o {premiado}')\n",
    "        \n",
    "\n",
    "        opcao = input(\"Deseja realizar um novo sorteio? (s/n)\").lower()\n",
    "        os.system('cls')\n",
    "\n",
    "        if opcao != 's':\n",
    "            break\n",
    "    else:\n",
    "        print(\"Não existe nomes para serem sorteados\")\n",
    "print(\"Sistema finalizado!\")\n",
    "print(f'Lista do sorteio:  {lista}')\n",
    "print(f'Listas de sorteados: {lista_sorteados}')"
   ]
  }
 ],
 "metadata": {
  "kernelspec": {
   "display_name": ".venv",
   "language": "python",
   "name": "python3"
  },
  "language_info": {
   "codemirror_mode": {
    "name": "ipython",
    "version": 3
   },
   "file_extension": ".py",
   "mimetype": "text/x-python",
   "name": "python",
   "nbconvert_exporter": "python",
   "pygments_lexer": "ipython3",
   "version": "3.12.4"
  }
 },
 "nbformat": 4,
 "nbformat_minor": 2
}
